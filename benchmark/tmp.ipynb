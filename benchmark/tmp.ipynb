{
 "metadata": {
  "language_info": {
   "codemirror_mode": {
    "name": "ipython",
    "version": 3
   },
   "file_extension": ".py",
   "mimetype": "text/x-python",
   "name": "python",
   "nbconvert_exporter": "python",
   "pygments_lexer": "ipython3",
   "version": "3.7.0"
  },
  "orig_nbformat": 2,
  "kernelspec": {
   "name": "python3",
   "display_name": "Python 3.7.0 32-bit",
   "metadata": {
    "interpreter": {
     "hash": "268e8ae1b0e1d3ca1f94e685ae9410d0b0ba1e9655e7d448e3c8606df9a5bdc2"
    }
   }
  }
 },
 "nbformat": 4,
 "nbformat_minor": 2,
 "cells": [
  {
   "cell_type": "code",
   "execution_count": 62,
   "metadata": {},
   "outputs": [
    {
     "output_type": "stream",
     "name": "stdout",
     "text": [
      "   min   max  median  mean  std  25th  50th  75th  90th  95th  99th\n0  0.2  3.79    1.19  1.19  0.5  0.83  1.12  1.44  1.85  2.12  2.88\n"
     ]
    }
   ],
   "source": [
    "import pandas as pd\n",
    "import numpy as np\n",
    "\n",
    "data = pd.read_csv('latency.log').to_numpy().squeeze()\n",
    "min_val = np.min(data)\n",
    "max_val = np.max(data)\n",
    "median_val = np.mean(data)\n",
    "mean_val = np.mean(data)\n",
    "std_val = np.std(data)\n",
    "p_vals = np.percentile(data, [25, 50, 75, 90, 95, 99])\n",
    "\n",
    "vals = [min_val, max_val, median_val, mean_val, std_val]\n",
    "vals.extend(p_vals)\n",
    "vals = pd.DataFrame(vals).round(2).T\n",
    "vals.columns = ['min','max','median','mean','std','25th','50th','75th','90th','95th','99th']\n"
   ]
  },
  {
   "cell_type": "code",
   "execution_count": null,
   "metadata": {},
   "outputs": [],
   "source": [
    "#!/usr/bin/env python3\n",
    "import pandas as pd\n",
    "import json\n",
    "import subprocess\n",
    "from influxdb import InfluxDBClient\n",
    "import numpy as np\n",
    "\n",
    "def find_influxdb(influxdb):\n",
    "    cnr_pid = subprocess.check_output(\"sudo docker inspect --format '{{ .State.Pid }}' %s\" % influxdb,\n",
    "                                      shell=True).decode().strip()\n",
    "    cnr_ip = \\\n",
    "    subprocess.check_output(\"sudo nsenter -t %s -n ip addr | grep inet | awk '{print $2}' | tail -n 1\" % cnr_pid,\n",
    "                            shell=True).decode().strip().split('/')[0]\n",
    "    return cnr_ip\n",
    "\n",
    "if __name__ == '__main__':\n",
    "    client = InfluxDBClient(host=find_influxdb('fecbench-server-docker_influxdb_1'), port=8086,\n",
    "                            username='indices_user',\n",
    "                            password='indices_manager', database='collectd_db')\n",
    "\n",
    "    kafka_metrics_query_str = 'SELECT * FROM \"docker_kafka_metrics\" WHERE time > now()-120s AND time < now() GROUP BY \"instance\"'\n",
    "    kafka_metrics = client.query(query=kafka_metrics_query_str, database='collectd_db')\n",
    "    kafka_raw_metrics = kafka_metrics.raw['series']\n",
    "    for i in range(len(kafka_raw_metrics)):\n",
    "        instance = kafka_raw_metrics[i]['tags']['instance']\n",
    "        if 'g-1-s-0' in instance:\n",
    "            kafka_metrics = list(kafka_metrics.get_points(tags={\"instance\": instance}))\n",
    "            kafka_metrics = pd.DataFrame(kafka_metrics)\n",
    "            break\n",
    "            print(kafka_metrics)\n"
   ]
  }
 ]
}