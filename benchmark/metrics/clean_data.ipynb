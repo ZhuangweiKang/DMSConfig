{
 "metadata": {
  "language_info": {
   "codemirror_mode": {
    "name": "ipython",
    "version": 3
   },
   "file_extension": ".py",
   "mimetype": "text/x-python",
   "name": "python",
   "nbconvert_exporter": "python",
   "pygments_lexer": "ipython3",
   "version": "3.7.9"
  },
  "orig_nbformat": 2,
  "kernelspec": {
   "name": "python37764bit7b1f69f4b8694c11a491566f0cc14780",
   "display_name": "Python 3.7.9 64-bit"
  },
  "metadata": {
   "interpreter": {
    "hash": "aee8b7b246df8f9039afb4144a1f6fd8d2ca17a180786b69acc140d282b71a49"
   }
  }
 },
 "nbformat": 4,
 "nbformat_minor": 2,
 "cells": [
  {
   "cell_type": "code",
   "execution_count": 1,
   "metadata": {},
   "outputs": [],
   "source": [
    "import pandas as pd\n",
    "import numpy as np"
   ]
  },
  {
   "cell_type": "code",
   "execution_count": 2,
   "metadata": {},
   "outputs": [],
   "source": [
    "schedule = pd.read_csv('./schedule.csv', index_col=0)\n",
    "ct = schedule['producer->compression_type'].to_list()\n",
    "options = ['none', 'gzip', 'snappy', 'lz4']\n",
    "for i, item in enumerate(ct):\n",
    "    ct[i] = options.index(ct[i])\n",
    "schedule['producer->compression_type'] = ct"
   ]
  },
  {
   "cell_type": "code",
   "execution_count": 3,
   "metadata": {},
   "outputs": [],
   "source": [
    "pub_l = pd.read_csv('producer-latency.csv').sort_values(by=['index'])\n",
    "pub_t = pd.read_csv('producer-throughput.csv').sort_values(by=['index'])\n",
    "e2e_l = pd.read_csv('consumer-e2e_latency.csv', index_col=0).sort_values(by=['index'])\n",
    "sub_l = pd.read_csv('consumer-latency.csv', index_col=0).sort_values(by=['index'])\n",
    "sub_t = pd.read_csv('consumer-throughput.csv', index_col=0).sort_values(by=['index'])"
   ]
  },
  {
   "cell_type": "code",
   "execution_count": 4,
   "metadata": {
    "tags": []
   },
   "outputs": [],
   "source": [
    "states = pd.read_csv('states.csv', index_col=0).sort_values(by=['index'])\n",
    "states = states.loc[:, (states != states.iloc[0]).any()]\n",
    "states = states[~states.index.duplicated(keep='last')]\n",
    "pub_l = pub_l[~pub_l.index.duplicated(keep='last')]\n",
    "sub_l = sub_l[~sub_l.index.duplicated(keep='last')]\n",
    "e2e_l = e2e_l[~e2e_l.index.duplicated(keep='last')]\n",
    "pub_t = pub_t[~pub_t.index.duplicated(keep='last')]\n",
    "sub_t = sub_t[~sub_t.index.duplicated(keep='last')]"
   ]
  },
  {
   "cell_type": "code",
   "execution_count": 5,
   "metadata": {},
   "outputs": [],
   "source": [
    "valid_configs = np.intersect1d(states.index, sub_l.index)\n",
    "valid_configs = np.intersect1d(valid_configs, pub_l.index)"
   ]
  },
  {
   "cell_type": "code",
   "execution_count": 6,
   "metadata": {},
   "outputs": [],
   "source": [
    "states = states.loc[valid_configs]"
   ]
  },
  {
   "cell_type": "code",
   "execution_count": 7,
   "metadata": {},
   "outputs": [],
   "source": [
    "xth = '90th'\n",
    "states['pub-l'] = pub_l[xth]\n",
    "states['sub-l'] = sub_l[xth]\n",
    "states['e2e-l'] = e2e_l[xth]\n",
    "states['pub-t'] = pub_t[xth]\n",
    "states['sub-t'] = sub_t[xth]"
   ]
  },
  {
   "cell_type": "code",
   "execution_count": 8,
   "metadata": {},
   "outputs": [],
   "source": [
    "states.to_csv('./processed/states.csv')"
   ]
  },
  {
   "cell_type": "code",
   "execution_count": 9,
   "metadata": {},
   "outputs": [
    {
     "output_type": "execute_result",
     "data": {
      "text/plain": [
       "       producer->batch_size  producer->linger_ms  producer->buffer_memory  \\\n",
       "index                                                                       \n",
       "0                    111895                  281                 23194176   \n",
       "1                    798485                  359                 23751305   \n",
       "2                    948641                  462                 27848835   \n",
       "3                    265653                  148                 28736502   \n",
       "4                    928976                  233                  2979366   \n",
       "...                     ...                  ...                      ...   \n",
       "1995                 681161                  492                 26649574   \n",
       "1996                 556258                  462                 19205262   \n",
       "1997                 785391                  363                  1391358   \n",
       "1998                1014392                  133                  7556309   \n",
       "1999                 507429                   36                 21551880   \n",
       "\n",
       "       producer->compression_type  broker->num.network.threads  \\\n",
       "index                                                            \n",
       "0                               1                           12   \n",
       "1                               0                            9   \n",
       "2                               0                           11   \n",
       "3                               2                           18   \n",
       "4                               0                            7   \n",
       "...                           ...                          ...   \n",
       "1995                            1                            4   \n",
       "1996                            1                            5   \n",
       "1997                            0                           13   \n",
       "1998                            1                           11   \n",
       "1999                            1                            1   \n",
       "\n",
       "       broker->num.io.threads  broker->queued.max.requests  \\\n",
       "index                                                        \n",
       "0                          12                          326   \n",
       "1                          19                          357   \n",
       "2                          13                          374   \n",
       "3                           2                          387   \n",
       "4                          13                          488   \n",
       "...                       ...                          ...   \n",
       "1995                       15                          417   \n",
       "1996                       14                          265   \n",
       "1997                       18                           59   \n",
       "1998                       11                          327   \n",
       "1999                        1                          398   \n",
       "\n",
       "       consumer->fetch_wait_max_ms  consumer->max_partition_fetch_bytes  \\\n",
       "index                                                                     \n",
       "0                              331                               246735   \n",
       "1                              473                               580452   \n",
       "2                              368                               270330   \n",
       "3                              272                               247698   \n",
       "4                               42                               233551   \n",
       "...                            ...                                  ...   \n",
       "1995                            85                               645094   \n",
       "1996                           259                                44963   \n",
       "1997                           481                               305408   \n",
       "1998                           141                               823214   \n",
       "1999                           341                              1031671   \n",
       "\n",
       "       consumer->max_poll_records  \n",
       "index                              \n",
       "0                             300  \n",
       "1                             356  \n",
       "2                             144  \n",
       "3                             138  \n",
       "4                             446  \n",
       "...                           ...  \n",
       "1995                          327  \n",
       "1996                          236  \n",
       "1997                           13  \n",
       "1998                          185  \n",
       "1999                          275  \n",
       "\n",
       "[2000 rows x 10 columns]"
      ],
      "text/html": "<div>\n<style scoped>\n    .dataframe tbody tr th:only-of-type {\n        vertical-align: middle;\n    }\n\n    .dataframe tbody tr th {\n        vertical-align: top;\n    }\n\n    .dataframe thead th {\n        text-align: right;\n    }\n</style>\n<table border=\"1\" class=\"dataframe\">\n  <thead>\n    <tr style=\"text-align: right;\">\n      <th></th>\n      <th>producer-&gt;batch_size</th>\n      <th>producer-&gt;linger_ms</th>\n      <th>producer-&gt;buffer_memory</th>\n      <th>producer-&gt;compression_type</th>\n      <th>broker-&gt;num.network.threads</th>\n      <th>broker-&gt;num.io.threads</th>\n      <th>broker-&gt;queued.max.requests</th>\n      <th>consumer-&gt;fetch_wait_max_ms</th>\n      <th>consumer-&gt;max_partition_fetch_bytes</th>\n      <th>consumer-&gt;max_poll_records</th>\n    </tr>\n    <tr>\n      <th>index</th>\n      <th></th>\n      <th></th>\n      <th></th>\n      <th></th>\n      <th></th>\n      <th></th>\n      <th></th>\n      <th></th>\n      <th></th>\n      <th></th>\n    </tr>\n  </thead>\n  <tbody>\n    <tr>\n      <th>0</th>\n      <td>111895</td>\n      <td>281</td>\n      <td>23194176</td>\n      <td>1</td>\n      <td>12</td>\n      <td>12</td>\n      <td>326</td>\n      <td>331</td>\n      <td>246735</td>\n      <td>300</td>\n    </tr>\n    <tr>\n      <th>1</th>\n      <td>798485</td>\n      <td>359</td>\n      <td>23751305</td>\n      <td>0</td>\n      <td>9</td>\n      <td>19</td>\n      <td>357</td>\n      <td>473</td>\n      <td>580452</td>\n      <td>356</td>\n    </tr>\n    <tr>\n      <th>2</th>\n      <td>948641</td>\n      <td>462</td>\n      <td>27848835</td>\n      <td>0</td>\n      <td>11</td>\n      <td>13</td>\n      <td>374</td>\n      <td>368</td>\n      <td>270330</td>\n      <td>144</td>\n    </tr>\n    <tr>\n      <th>3</th>\n      <td>265653</td>\n      <td>148</td>\n      <td>28736502</td>\n      <td>2</td>\n      <td>18</td>\n      <td>2</td>\n      <td>387</td>\n      <td>272</td>\n      <td>247698</td>\n      <td>138</td>\n    </tr>\n    <tr>\n      <th>4</th>\n      <td>928976</td>\n      <td>233</td>\n      <td>2979366</td>\n      <td>0</td>\n      <td>7</td>\n      <td>13</td>\n      <td>488</td>\n      <td>42</td>\n      <td>233551</td>\n      <td>446</td>\n    </tr>\n    <tr>\n      <th>...</th>\n      <td>...</td>\n      <td>...</td>\n      <td>...</td>\n      <td>...</td>\n      <td>...</td>\n      <td>...</td>\n      <td>...</td>\n      <td>...</td>\n      <td>...</td>\n      <td>...</td>\n    </tr>\n    <tr>\n      <th>1995</th>\n      <td>681161</td>\n      <td>492</td>\n      <td>26649574</td>\n      <td>1</td>\n      <td>4</td>\n      <td>15</td>\n      <td>417</td>\n      <td>85</td>\n      <td>645094</td>\n      <td>327</td>\n    </tr>\n    <tr>\n      <th>1996</th>\n      <td>556258</td>\n      <td>462</td>\n      <td>19205262</td>\n      <td>1</td>\n      <td>5</td>\n      <td>14</td>\n      <td>265</td>\n      <td>259</td>\n      <td>44963</td>\n      <td>236</td>\n    </tr>\n    <tr>\n      <th>1997</th>\n      <td>785391</td>\n      <td>363</td>\n      <td>1391358</td>\n      <td>0</td>\n      <td>13</td>\n      <td>18</td>\n      <td>59</td>\n      <td>481</td>\n      <td>305408</td>\n      <td>13</td>\n    </tr>\n    <tr>\n      <th>1998</th>\n      <td>1014392</td>\n      <td>133</td>\n      <td>7556309</td>\n      <td>1</td>\n      <td>11</td>\n      <td>11</td>\n      <td>327</td>\n      <td>141</td>\n      <td>823214</td>\n      <td>185</td>\n    </tr>\n    <tr>\n      <th>1999</th>\n      <td>507429</td>\n      <td>36</td>\n      <td>21551880</td>\n      <td>1</td>\n      <td>1</td>\n      <td>1</td>\n      <td>398</td>\n      <td>341</td>\n      <td>1031671</td>\n      <td>275</td>\n    </tr>\n  </tbody>\n</table>\n<p>2000 rows × 10 columns</p>\n</div>"
     },
     "metadata": {},
     "execution_count": 9
    }
   ],
   "source": [
    "schedule"
   ]
  },
  {
   "cell_type": "code",
   "execution_count": 10,
   "metadata": {},
   "outputs": [],
   "source": [
    "schedule = schedule.loc[valid_configs]\n",
    "schedule.to_csv('./processed/schedule.csv')"
   ]
  },
  {
   "cell_type": "code",
   "execution_count": 11,
   "metadata": {},
   "outputs": [],
   "source": [
    "raw_schedule = pd.read_csv('schedule.csv')\n",
    "raw_index = raw_schedule['index'].to_list()\n",
    "missed = []\n",
    "for x in raw_index:\n",
    "    if x not in schedule.index:\n",
    "        missed.append(x)\n",
    "missed_schedule = raw_schedule.iloc[missed]\n",
    "missed_schedule.to_csv('missed.csv', index=None)"
   ]
  }
 ]
}