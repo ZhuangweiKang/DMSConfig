{
 "metadata": {
  "language_info": {
   "codemirror_mode": {
    "name": "ipython",
    "version": 3
   },
   "file_extension": ".py",
   "mimetype": "text/x-python",
   "name": "python",
   "nbconvert_exporter": "python",
   "pygments_lexer": "ipython3",
   "version": "3.7.9"
  },
  "orig_nbformat": 2,
  "kernelspec": {
   "name": "python37764bit7b1f69f4b8694c11a491566f0cc14780",
   "display_name": "Python 3.7.9 64-bit"
  },
  "metadata": {
   "interpreter": {
    "hash": "aee8b7b246df8f9039afb4144a1f6fd8d2ca17a180786b69acc140d282b71a49"
   }
  }
 },
 "nbformat": 4,
 "nbformat_minor": 2,
 "cells": [
  {
   "cell_type": "code",
   "execution_count": null,
   "metadata": {},
   "outputs": [],
   "source": [
    "import pandas as pd\n",
    "import numpy as np"
   ]
  },
  {
   "cell_type": "code",
   "execution_count": null,
   "metadata": {},
   "outputs": [],
   "source": [
    "schedule = pd.read_csv('./raw/schedule.csv')\n",
    "ct = schedule['producer->compression_type'].to_list()\n",
    "options = ['none', 'gzip', 'snappy', 'lz4']\n",
    "for i, item in enumerate(ct):\n",
    "    ct[i] = options.index(ct[i])\n",
    "schedule['producer->compression_type'] = ct"
   ]
  },
  {
   "cell_type": "code",
   "execution_count": null,
   "metadata": {
    "tags": []
   },
   "outputs": [],
   "source": [
    "states = pd.read_csv('./raw/states.csv').sort_values(by=['index'])\n",
    "states = states.loc[:, (states != states.iloc[0]).any()]\n",
    "latency = pd.read_csv('./raw/latency.csv').sort_values(by=['index'])\n",
    "\n",
    "states.set_index('index', inplace=True)\n",
    "latency.set_index('index', inplace=True)\n",
    "schedule.set_index(['index'], inplace=True)"
   ]
  },
  {
   "cell_type": "code",
   "execution_count": null,
   "metadata": {},
   "outputs": [],
   "source": [
    "states = states.join(latency, on=['index'])"
   ]
  },
  {
   "cell_type": "code",
   "execution_count": null,
   "metadata": {},
   "outputs": [],
   "source": [
    "states.to_csv('./processed/states.csv')"
   ]
  },
  {
   "cell_type": "code",
   "execution_count": null,
   "metadata": {},
   "outputs": [],
   "source": [
    "schedule = schedule.loc[states.index]\n",
    "schedule.to_csv('./processed/schedule.csv')"
   ]
  }
 ]
}