{
 "metadata": {
  "language_info": {
   "codemirror_mode": {
    "name": "ipython",
    "version": 3
   },
   "file_extension": ".py",
   "mimetype": "text/x-python",
   "name": "python",
   "nbconvert_exporter": "python",
   "pygments_lexer": "ipython3",
   "version": "3.7.7"
  },
  "orig_nbformat": 2,
  "kernelspec": {
   "name": "python37764bit7b1f69f4b8694c11a491566f0cc14780",
   "display_name": "Python 3.7.7 64-bit"
  },
  "metadata": {
   "interpreter": {
    "hash": "aee8b7b246df8f9039afb4144a1f6fd8d2ca17a180786b69acc140d282b71a49"
   }
  }
 },
 "nbformat": 4,
 "nbformat_minor": 2,
 "cells": [
  {
   "cell_type": "code",
   "execution_count": 15,
   "metadata": {},
   "outputs": [],
   "source": [
    "import pandas as pd\n",
    "import numpy as np\n",
    "import os\n",
    "from sklearn.preprocessing import normalize, StandardScaler, MinMaxScaler, Normalizer\n",
    "import seaborn as sns\n",
    "from matplotlib.pylab import rcParams\n",
    "import matplotlib.pyplot as plt\n",
    "import plotly.express as px\n",
    "import plotly.graph_objects as go"
   ]
  },
  {
   "cell_type": "code",
   "execution_count": 16,
   "metadata": {},
   "outputs": [],
   "source": [
    "metrics = os.listdir('./raw')\n",
    "metrics = [m for m in metrics if 'csv' in m]"
   ]
  },
  {
   "cell_type": "code",
   "execution_count": 17,
   "metadata": {
    "tags": []
   },
   "outputs": [],
   "source": [
    "def sortByIndex(metric):\n",
    "    data = pd.read_csv('./raw/%s' % metric)\n",
    "    if 'memory_heap_usage_used' in data.columns:\n",
    "        data['memory_usage_used'] = data['memory_heap_usage_used'] + data['memory_non_heap_usage_used']\n",
    "    # miss1 = pd.read_csv('./raw/missed/%s' % metric)\n",
    "    # miss2 = pd.read_csv('./raw/missed1/%s' % metric)\n",
    "    # data = pd.concat([data, miss1, miss2], axis=0).sort_values(by=['index'])\n",
    "    # data.to_csv('./raw/%s' % metric, index=None)\n",
    "    data.to_csv('./processed/%s' % metric, index=None)\n",
    "for m in metrics:\n",
    "    sortByIndex(m)"
   ]
  },
  {
   "cell_type": "code",
   "execution_count": 18,
   "metadata": {
    "tags": []
   },
   "outputs": [],
   "source": [
    "# %%script false\n",
    "# latency = pd.read_csv('./processed/latency.csv')\n",
    "# missed_index = list(set(range(5000)) - set(latency['index']))\n",
    "# full_schedule = pd.read_csv('schedule.csv')\n",
    "# missed_schedule = full_schedule.iloc[missed_index]\n",
    "# missed_schedule.to_csv('missed_schedule.csv', index=None)"
   ]
  },
  {
   "cell_type": "code",
   "execution_count": 19,
   "metadata": {
    "tags": []
   },
   "outputs": [
    {
     "output_type": "stream",
     "name": "stdout",
     "text": [
      "states_std.csv\n",
      "states_50th.csv\n",
      "states_90th.csv\n",
      "states_min.csv\n",
      "states_95th.csv\n",
      "states_75th.csv\n",
      "states_25th.csv\n",
      "states_mean.csv\n",
      "states_max.csv\n",
      "states_99th.csv\n",
      "states_median.csv\n",
      "latency.csv\n"
     ]
    }
   ],
   "source": [
    "def plot_data(X, col):\n",
    "    fig = go.Figure()\n",
    "    fig.add_trace(go.Scatter(x=X.index, y=X[col], mode='markers', name=col))\n",
    "    fig.update_layout(height=400, width=800, showlegend=True)\n",
    "    fig.show()\n",
    "\n",
    "for m in metrics:\n",
    "    print(m)\n",
    "    data = pd.read_csv('./processed/%s' % m, index_col=0)\n",
    "\n",
    "    # drop constant columns\n",
    "    data = data.loc[:, (data != data.iloc[0]).any()] \n",
    "    data_cols = data.columns\n",
    "\n",
    "    # scaling data\n",
    "    scaler = MinMaxScaler()\n",
    "    data[data_cols] = scaler.fit_transform(data[data_cols])\n",
    "    # data[data_cols] = normalize(data[data_cols], axis=0)\n",
    "    data.to_csv('./processed/%s' % m)"
   ]
  },
  {
   "cell_type": "code",
   "execution_count": 20,
   "metadata": {},
   "outputs": [],
   "source": [
    "throughput_metrics = pd.DataFrame([])\n",
    "for m in metrics:\n",
    "    data = pd.read_csv('./processed/%s' % m)\n",
    "    if 'server_broker_topics_AllTopicsBytesOut' in data.columns:\n",
    "        throughput_metrics[m.split('.')[0].split('_')[1]] = data['server_broker_topics_AllTopicsBytesOut']\n",
    "throughput_metrics.index = data.index\n",
    "throughput_metrics.index.name = 'index'\n",
    "throughput_metrics.to_csv('./processed/throughput.csv')"
   ]
  },
  {
   "cell_type": "code",
   "execution_count": 21,
   "metadata": {},
   "outputs": [],
   "source": [
    "# schedule = pd.read_csv('schedule.csv')\n",
    "# compression_type = ['none', 'gzip', 'snappy']\n",
    "# ct = schedule['producer->compression_type']\n",
    "# for i in range(len(ct)):\n",
    "#     ct[i] = compression_type.index(ct[i])\n",
    "# schedule['producer->compression_type'] = ct\n",
    "# schedule.to_csv('schedule1.csv', index=None)"
   ]
  }
 ]
}