{
 "cells": [
  {
   "cell_type": "code",
   "execution_count": 3,
   "metadata": {
    "collapsed": true
   },
   "outputs": [],
   "source": [
    "import os\n",
    "import tensorflow as tf\n",
    "import matplotlib.pyplot as plt\n",
    "import pickle\n",
    "import numpy as np\n",
    "import pandas as pd"
   ]
  },
  {
   "cell_type": "code",
   "execution_count": 4,
   "outputs": [
    {
     "ename": "FileNotFoundError",
     "evalue": "[Errno 2] No such file or directory: 'learning_curves/dmsconfig_rewards.pkl'",
     "output_type": "error",
     "traceback": [
      "\u001B[0;31m---------------------------------------------------------------------------\u001B[0m",
      "\u001B[0;31mFileNotFoundError\u001B[0m                         Traceback (most recent call last)",
      "\u001B[0;32m<ipython-input-4-d9ef63050798>\u001B[0m in \u001B[0;36m<module>\u001B[0;34m\u001B[0m\n\u001B[0;32m----> 1\u001B[0;31m \u001B[0;32mwith\u001B[0m \u001B[0mopen\u001B[0m\u001B[0;34m(\u001B[0m\u001B[0;34m'learning_curves/dmsconfig_rewards.pkl'\u001B[0m\u001B[0;34m,\u001B[0m \u001B[0;34m'rb'\u001B[0m\u001B[0;34m)\u001B[0m \u001B[0;32mas\u001B[0m \u001B[0mf\u001B[0m\u001B[0;34m:\u001B[0m\u001B[0;34m\u001B[0m\u001B[0;34m\u001B[0m\u001B[0m\n\u001B[0m\u001B[1;32m      2\u001B[0m     \u001B[0mrewards\u001B[0m \u001B[0;34m=\u001B[0m \u001B[0mpickle\u001B[0m\u001B[0;34m.\u001B[0m\u001B[0mload\u001B[0m\u001B[0;34m(\u001B[0m\u001B[0mf\u001B[0m\u001B[0;34m)\u001B[0m\u001B[0;34m\u001B[0m\u001B[0;34m\u001B[0m\u001B[0m\n\u001B[1;32m      3\u001B[0m \u001B[0mplt\u001B[0m\u001B[0;34m.\u001B[0m\u001B[0mtitle\u001B[0m\u001B[0;34m(\u001B[0m\u001B[0;34m'episode rewards'\u001B[0m\u001B[0;34m)\u001B[0m\u001B[0;34m\u001B[0m\u001B[0;34m\u001B[0m\u001B[0m\n\u001B[1;32m      4\u001B[0m \u001B[0mplt\u001B[0m\u001B[0;34m.\u001B[0m\u001B[0mplot\u001B[0m\u001B[0;34m(\u001B[0m\u001B[0mrange\u001B[0m\u001B[0;34m(\u001B[0m\u001B[0mlen\u001B[0m\u001B[0;34m(\u001B[0m\u001B[0mrewards\u001B[0m\u001B[0;34m)\u001B[0m\u001B[0;34m)\u001B[0m\u001B[0;34m,\u001B[0m \u001B[0mrewards\u001B[0m\u001B[0;34m)\u001B[0m\u001B[0;34m\u001B[0m\u001B[0;34m\u001B[0m\u001B[0m\n\u001B[1;32m      5\u001B[0m \u001B[0;34m\u001B[0m\u001B[0m\n",
      "\u001B[0;31mFileNotFoundError\u001B[0m: [Errno 2] No such file or directory: 'learning_curves/dmsconfig_rewards.pkl'"
     ]
    }
   ],
   "source": [
    "with open('learning_curves/dmsconfig_rewards.pkl', 'rb') as f:\n",
    "    rewards = pickle.load(f)\n",
    "plt.title('episode rewards')\n",
    "plt.plot(range(len(rewards)), rewards)"
   ],
   "metadata": {
    "collapsed": false,
    "pycharm": {
     "name": "#%%\n"
    }
   }
  },
  {
   "cell_type": "code",
   "execution_count": null,
   "outputs": [],
   "source": [
    "with open('learning_curves/dmsconfig_actions.pkl', 'rb') as f:\n",
    "    actions = pickle.load(f)\n",
    "\n",
    "actions = np.array(actions)[:, 0]\n",
    "act_meta = pd.read_csv('../config_meta.csv')\n",
    "real_acts = []\n",
    "for act in actions:\n",
    "    ract = act * (act_meta['max'].to_numpy() - act_meta['min'].to_numpy()) + act_meta['min'].to_numpy()\n",
    "    ract = ract.astype(int)\n",
    "    real_acts.append(ract)\n",
    "\n",
    "options = ['gzip', 'snappy', 'lz4', 'zstd', 'producer']\n",
    "for i, act in enumerate(real_acts):\n",
    "    real_acts[i] = list(act)\n",
    "    real_acts[i][-1] = options[int(act[-1])]\n",
    "\n",
    "real_acts = pd.DataFrame(real_acts, columns=act_meta['name'])\n",
    "real_acts.to_csv('../Validation/test.csv', index=False)"
   ],
   "metadata": {
    "collapsed": false,
    "pycharm": {
     "name": "#%%\n"
    }
   }
  },
  {
   "cell_type": "code",
   "execution_count": null,
   "outputs": [],
   "source": [
    "baseline = pd.read_csv('../Baseline/baseline.csv')\n",
    "bytes_out = baseline['dms_perf.server_broker_topics_AllTopicsBytesOut']\n",
    "bytes_out = np.mean(bytes_out)\n",
    "print(bytes_out)\n",
    "\n",
    "validation = pd.read_csv('../Validation/validation.csv')\n",
    "bytes_out_val = validation['dms_perf.server_broker_topics_AllTopicsBytesOut']\n",
    "print(bytes_out_val)\n",
    "\n",
    "plt.title('bytesout')\n",
    "plt.plot(range(real_acts.shape[0]), [bytes_out] * real_acts.shape[0])\n",
    "plt.plot(range(real_acts.shape[0]), [bytes_out_val] * real_acts.shape[0])"
   ],
   "metadata": {
    "collapsed": false,
    "pycharm": {
     "name": "#%%\n"
    }
   }
  }
 ],
 "metadata": {
  "kernelspec": {
   "display_name": "Python 3",
   "language": "python",
   "name": "python3"
  },
  "language_info": {
   "codemirror_mode": {
    "name": "ipython",
    "version": 2
   },
   "file_extension": ".py",
   "mimetype": "text/x-python",
   "name": "python",
   "nbconvert_exporter": "python",
   "pygments_lexer": "ipython2",
   "version": "2.7.6"
  }
 },
 "nbformat": 4,
 "nbformat_minor": 0
}