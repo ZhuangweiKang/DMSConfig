{
 "cells": [
  {
   "cell_type": "code",
   "execution_count": 3,
   "metadata": {
    "collapsed": true
   },
   "outputs": [],
   "source": [
    "import pandas as pd\n",
    "import numpy as np"
   ]
  },
  {
   "cell_type": "code",
   "execution_count": 4,
   "outputs": [
    {
     "output_type": "stream",
     "name": "stdout",
     "text": "default: [3, 8, 500, 102400, 102400, 104857600, 33554432, 0, 16384, 0]\nconfig_meta_min: [1, 1, 50, 10240, 10240, 10485760, 2097152, 0, 4096, 0]\nconfig_meta_max: [20, 24, 5000, 204800, 204800, 314572800, 100663296, 1, 262144, 100]\nreco [16.0, 24.0, 5000.0, 185006.0, 67783.0, 12365788.0, 2217413.0, 1.0, 262143.0, 100.0]\n"
    }
   ],
   "source": [
    "import os\n",
    "\n",
    "exp_id = '10-04'\n",
    "config = '/Users/zhuangweikang/Documents/GitHub/DMSConfig/dms_simulator/%s/drl/ddpg.csv' % exp_id\n",
    "results = pd.read_csv(config, index_col=0)\n",
    "avg = np.mean(results, 0).tolist()\n",
    "config_meta = pd.read_csv('../meta/config_meta.csv')\n",
    "max_rlt = results.max().tolist()\n",
    "min_rlt = results.min().tolist()\n",
    "\n",
    "max_rlt = np.round((config_meta['max'] - config_meta['min']) * max_rlt + config_meta['min'])\n",
    "min_rlt = np.round((config_meta['max'] - config_meta['min']) * min_rlt + config_meta['min'])\n",
    "mean_rlt = np.round((config_meta['max'] - config_meta['min']) * avg + config_meta['min'])\n",
    "\n",
    "print('default:', config_meta['default'].tolist())\n",
    "print('config_meta_min:', config_meta['min'].tolist())\n",
    "print('config_meta_max:', config_meta['max'].tolist())\n",
    "print('reco', mean_rlt.tolist())"
   ],
   "metadata": {
    "collapsed": false,
    "pycharm": {
     "name": "#%%\n"
    },
    "tags": []
   }
  },
  {
   "cell_type": "code",
   "execution_count": 5,
   "metadata": {},
   "outputs": [],
   "source": [
    "from pyDOE import *\n",
    "\n",
    "meta_info = pd.read_csv('../meta/config_meta.csv')\n",
    "meta_info['min'] = min_rlt\n",
    "meta_info['max'] = max_rlt\n",
    "\n",
    "# generate samples using Latin Hypercube Sampling\n",
    "def sample_configs(budget):\n",
    "    global meta_info\n",
    "    # get the number factors\n",
    "    num_factors = meta_info.shape[0]\n",
    "    sampler = lhs(num_factors, samples=budget, criterion=\"maximin\")\n",
    "    sampler = pd.DataFrame(data=sampler)\n",
    "    sampler.columns = meta_info['name']\n",
    "    for col_name in meta_info['name']:\n",
    "        param_meta = meta_info.loc[meta_info['name'] == col_name]\n",
    "        if param_meta[\"data_type\"].to_list()[0] == \"int\":\n",
    "            sampler[col_name] = sampler[col_name].apply(\n",
    "                lambda x: int(round(x * (param_meta[\"max\"] - param_meta[\"min\"]) + param_meta[\"min\"])))\n",
    "        elif param_meta[\"data_type\"].to_list()[0] == \"double\":\n",
    "            sampler[col_name] = sampler[col_name].apply(\n",
    "                lambda x: '%.2f' % float(x * (param_meta[\"max\"] - param_meta[\"min\"]) + param_meta[\"min\"]))\n",
    "        elif param_meta['data_type'].to_list()[0] in ['string', 'boolean']:\n",
    "            options = param_meta['options'].to_list()[0].split('/')\n",
    "            sampler[col_name] = sampler[col_name].apply(\n",
    "                lambda x: options[int(round(x * (param_meta[\"max\"] - param_meta[\"min\"]) + param_meta[\"min\"]))])\n",
    "    sampler.to_csv(path_or_buf=\"schedule.csv\", index=False)\n",
    "\n",
    "sample_configs(100)"
   ]
  }
 ],
 "metadata": {
  "kernelspec": {
   "display_name": "Python 3.7.7 64-bit",
   "language": "python",
   "name": "python37764bit7b1f69f4b8694c11a491566f0cc14780"
  },
  "language_info": {
   "codemirror_mode": {
    "name": "ipython",
    "version": 2
   },
   "file_extension": ".py",
   "mimetype": "text/x-python",
   "name": "python",
   "nbconvert_exporter": "python",
   "pygments_lexer": "ipython2",
   "version": "3.7.7-final"
  }
 },
 "nbformat": 4,
 "nbformat_minor": 0
}